{
  "cells": [
    {
      "cell_type": "markdown",
      "metadata": {
        "id": "view-in-github",
        "colab_type": "text"
      },
      "source": [
        "<a href=\"https://colab.research.google.com/github/Nayr91/portfolio/blob/main/EDA_Diagnosing_Diabetes.ipynb\" target=\"_parent\"><img src=\"https://colab.research.google.com/assets/colab-badge.svg\" alt=\"Open In Colab\"/></a>"
      ]
    },
    {
      "cell_type": "markdown",
      "id": "f4c71b09",
      "metadata": {
        "id": "f4c71b09"
      },
      "source": [
        "# EDA: Diagnosing Diabetes"
      ]
    },
    {
      "cell_type": "markdown",
      "id": "7cf00067",
      "metadata": {
        "id": "7cf00067"
      },
      "source": [
        "In this project, you'll imagine you are a data scientist interested in exploring data that looks at how certain diagnostic factors affect the diabetes outcome of women patients.\n",
        "\n",
        "You will use your EDA skills to help inspect, clean, and validate the data.\n",
        "\n",
        "**Note**: This [dataset](https://www.kaggle.com/uciml/pima-indians-diabetes-database) is from the National Institute of Diabetes and Digestive and Kidney Diseases. It contains the following columns:\n",
        "\n",
        "- `Pregnancies`: Number of times pregnant\n",
        "- `Glucose`: Plasma glucose concentration per 2 hours in an oral glucose tolerance test\n",
        "- `BloodPressure`: Diastolic blood pressure\n",
        "- `SkinThickness`: Triceps skinfold thickness\n",
        "- `Insulin`: 2-Hour serum insulin\n",
        "- `BMI`: Body mass index\n",
        "- `DiabetesPedigreeFunction`: Diabetes pedigree function\n",
        "- `Age`: Age (years)\n",
        "- `Outcome`: Class variable (0 or 1)\n",
        "\n",
        "Let's get started!"
      ]
    },
    {
      "cell_type": "markdown",
      "id": "6e1cc217",
      "metadata": {
        "id": "6e1cc217"
      },
      "source": [
        "## Initial Inspection"
      ]
    },
    {
      "cell_type": "markdown",
      "id": "76684c5b",
      "metadata": {
        "id": "76684c5b"
      },
      "source": [
        "1. First, familiarize yourself with the dataset [here](https://www.kaggle.com/uciml/pima-indians-diabetes-database).\n",
        "\n",
        "   Look at each of the nine columns in the documentation.\n",
        "   \n",
        "   What do you expect each data type to be?"
      ]
    },
    {
      "cell_type": "markdown",
      "id": "f7bdb023",
      "metadata": {
        "id": "f7bdb023"
      },
      "source": [
        "Expected data type for each column:\n",
        "\n",
        "- `Pregnancies`:\n",
        "- `Glucose`:\n",
        "- `BloodPressure`:\n",
        "- `SkinThickness`:\n",
        "- `Insulin`:\n",
        "- `BMI`:\n",
        "- `DiabetesPedigreeFunction`:\n",
        "- `Age`:\n",
        "- `Outcome`:"
      ]
    },
    {
      "cell_type": "markdown",
      "id": "fc54249b",
      "metadata": {
        "id": "fc54249b"
      },
      "source": [
        "2. Next, let's load in the diabetes data to start exploring.\n",
        "\n",
        "   Load the data in a variable called `diabetes_data` and print the first few rows.\n",
        "   \n",
        "   **Note**: The data is stored in a file called `diabetes.csv`."
      ]
    },
    {
      "cell_type": "code",
      "execution_count": null,
      "id": "4839762f",
      "metadata": {
        "id": "4839762f"
      },
      "outputs": [],
      "source": [
        "import pandas as pd\n",
        "import numpy as np\n",
        "\n",
        "# load in data\n",
        "\n",
        "df = pd.read_csv('diabetes.csv')\n"
      ]
    },
    {
      "cell_type": "markdown",
      "id": "90d35b44",
      "metadata": {
        "id": "90d35b44"
      },
      "source": [
        "3. How many columns (features) does the data contain?"
      ]
    },
    {
      "cell_type": "code",
      "execution_count": null,
      "id": "c7fc98c4",
      "metadata": {
        "colab": {
          "base_uri": "https://localhost:8080/"
        },
        "id": "c7fc98c4",
        "outputId": "acc27e96-a06e-4167-a3b7-9f37ca380284"
      },
      "outputs": [
        {
          "output_type": "stream",
          "name": "stdout",
          "text": [
            "Index(['Pregnancies', 'Glucose', 'BloodPressure', 'SkinThickness', 'Insulin',\n",
            "       'BMI', 'DiabetesPedigreeFunction', 'Age', 'Outcome'],\n",
            "      dtype='object')\n"
          ]
        }
      ],
      "source": [
        "# print number of columns\n",
        "print(df.columns)\n"
      ]
    },
    {
      "cell_type": "markdown",
      "id": "35d2bf80",
      "metadata": {
        "id": "35d2bf80"
      },
      "source": [
        "4. How many rows (observations) does the data contain?"
      ]
    },
    {
      "cell_type": "code",
      "execution_count": null,
      "id": "190b7a90",
      "metadata": {
        "colab": {
          "base_uri": "https://localhost:8080/"
        },
        "id": "190b7a90",
        "outputId": "23597a3b-1dc1-4afc-9651-1d05a07da91e"
      },
      "outputs": [
        {
          "output_type": "stream",
          "name": "stdout",
          "text": [
            "<class 'pandas.core.frame.DataFrame'>\n",
            "RangeIndex: 768 entries, 0 to 767\n",
            "Data columns (total 9 columns):\n",
            " #   Column                    Non-Null Count  Dtype  \n",
            "---  ------                    --------------  -----  \n",
            " 0   Pregnancies               768 non-null    int64  \n",
            " 1   Glucose                   768 non-null    int64  \n",
            " 2   BloodPressure             768 non-null    int64  \n",
            " 3   SkinThickness             768 non-null    int64  \n",
            " 4   Insulin                   768 non-null    int64  \n",
            " 5   BMI                       768 non-null    float64\n",
            " 6   DiabetesPedigreeFunction  768 non-null    float64\n",
            " 7   Age                       768 non-null    int64  \n",
            " 8   Outcome                   768 non-null    object \n",
            "dtypes: float64(2), int64(6), object(1)\n",
            "memory usage: 54.1+ KB\n",
            "None\n"
          ]
        }
      ],
      "source": [
        "# print number of rows\n",
        "print(df.info())\n"
      ]
    },
    {
      "cell_type": "markdown",
      "id": "65d8ddf0",
      "metadata": {
        "id": "65d8ddf0"
      },
      "source": [
        "## Further Inspection"
      ]
    },
    {
      "cell_type": "markdown",
      "id": "04e3c6ef",
      "metadata": {
        "id": "04e3c6ef"
      },
      "source": [
        "5. Let's inspect `diabetes_data` further.\n",
        "\n",
        "   Do any of the columns in the data contain null (missing) values?"
      ]
    },
    {
      "cell_type": "code",
      "execution_count": null,
      "id": "d0fa3860",
      "metadata": {
        "colab": {
          "base_uri": "https://localhost:8080/"
        },
        "id": "d0fa3860",
        "outputId": "dd062606-a95b-40e5-89a9-63aaf6b3f5d0"
      },
      "outputs": [
        {
          "output_type": "execute_result",
          "data": {
            "text/plain": [
              "Pregnancies                 0\n",
              "Glucose                     0\n",
              "BloodPressure               0\n",
              "SkinThickness               0\n",
              "Insulin                     0\n",
              "BMI                         0\n",
              "DiabetesPedigreeFunction    0\n",
              "Age                         0\n",
              "Outcome                     0\n",
              "dtype: int64"
            ]
          },
          "metadata": {},
          "execution_count": 47
        }
      ],
      "source": [
        "# find whether columns contain null values\n",
        "df.isnull().sum()\n"
      ]
    },
    {
      "cell_type": "markdown",
      "id": "8ee62c01",
      "metadata": {
        "id": "8ee62c01"
      },
      "source": [
        "6. If you answered no to the question above, not so fast!\n",
        "\n",
        "   While it's technically true that none of the columns contain null values, that doesn't necessarily mean that the data isn't missing any values.\n",
        "   \n",
        "   When exploring data, you should always question your assumptions and try to dig deeper.\n",
        "   \n",
        "   To investigate further, calculate summary statistics on `diabetes_data` using the `.describe()` method."
      ]
    },
    {
      "cell_type": "code",
      "execution_count": null,
      "id": "451efb00",
      "metadata": {
        "colab": {
          "base_uri": "https://localhost:8080/",
          "height": 300
        },
        "id": "451efb00",
        "outputId": "1ece471d-588d-4c26-ea1d-bd3e254dcf27"
      },
      "outputs": [
        {
          "output_type": "execute_result",
          "data": {
            "text/plain": [
              "       Pregnancies     Glucose  BloodPressure  SkinThickness     Insulin  \\\n",
              "count   768.000000  768.000000     768.000000     768.000000  768.000000   \n",
              "mean      3.845052  120.894531      69.105469      20.536458   79.799479   \n",
              "std       3.369578   31.972618      19.355807      15.952218  115.244002   \n",
              "min       0.000000    0.000000       0.000000       0.000000    0.000000   \n",
              "25%       1.000000   99.000000      62.000000       0.000000    0.000000   \n",
              "50%       3.000000  117.000000      72.000000      23.000000   30.500000   \n",
              "75%       6.000000  140.250000      80.000000      32.000000  127.250000   \n",
              "max      17.000000  199.000000     122.000000      99.000000  846.000000   \n",
              "\n",
              "              BMI  DiabetesPedigreeFunction         Age  \n",
              "count  768.000000                768.000000  768.000000  \n",
              "mean    31.992578                  0.471876   33.240885  \n",
              "std      7.884160                  0.331329   11.760232  \n",
              "min      0.000000                  0.078000   21.000000  \n",
              "25%     27.300000                  0.243750   24.000000  \n",
              "50%     32.000000                  0.372500   29.000000  \n",
              "75%     36.600000                  0.626250   41.000000  \n",
              "max     67.100000                  2.420000   81.000000  "
            ],
            "text/html": [
              "\n",
              "  <div id=\"df-5f799a29-b9e6-4ccf-bd80-38ecf5cdbbfb\" class=\"colab-df-container\">\n",
              "    <div>\n",
              "<style scoped>\n",
              "    .dataframe tbody tr th:only-of-type {\n",
              "        vertical-align: middle;\n",
              "    }\n",
              "\n",
              "    .dataframe tbody tr th {\n",
              "        vertical-align: top;\n",
              "    }\n",
              "\n",
              "    .dataframe thead th {\n",
              "        text-align: right;\n",
              "    }\n",
              "</style>\n",
              "<table border=\"1\" class=\"dataframe\">\n",
              "  <thead>\n",
              "    <tr style=\"text-align: right;\">\n",
              "      <th></th>\n",
              "      <th>Pregnancies</th>\n",
              "      <th>Glucose</th>\n",
              "      <th>BloodPressure</th>\n",
              "      <th>SkinThickness</th>\n",
              "      <th>Insulin</th>\n",
              "      <th>BMI</th>\n",
              "      <th>DiabetesPedigreeFunction</th>\n",
              "      <th>Age</th>\n",
              "    </tr>\n",
              "  </thead>\n",
              "  <tbody>\n",
              "    <tr>\n",
              "      <th>count</th>\n",
              "      <td>768.000000</td>\n",
              "      <td>768.000000</td>\n",
              "      <td>768.000000</td>\n",
              "      <td>768.000000</td>\n",
              "      <td>768.000000</td>\n",
              "      <td>768.000000</td>\n",
              "      <td>768.000000</td>\n",
              "      <td>768.000000</td>\n",
              "    </tr>\n",
              "    <tr>\n",
              "      <th>mean</th>\n",
              "      <td>3.845052</td>\n",
              "      <td>120.894531</td>\n",
              "      <td>69.105469</td>\n",
              "      <td>20.536458</td>\n",
              "      <td>79.799479</td>\n",
              "      <td>31.992578</td>\n",
              "      <td>0.471876</td>\n",
              "      <td>33.240885</td>\n",
              "    </tr>\n",
              "    <tr>\n",
              "      <th>std</th>\n",
              "      <td>3.369578</td>\n",
              "      <td>31.972618</td>\n",
              "      <td>19.355807</td>\n",
              "      <td>15.952218</td>\n",
              "      <td>115.244002</td>\n",
              "      <td>7.884160</td>\n",
              "      <td>0.331329</td>\n",
              "      <td>11.760232</td>\n",
              "    </tr>\n",
              "    <tr>\n",
              "      <th>min</th>\n",
              "      <td>0.000000</td>\n",
              "      <td>0.000000</td>\n",
              "      <td>0.000000</td>\n",
              "      <td>0.000000</td>\n",
              "      <td>0.000000</td>\n",
              "      <td>0.000000</td>\n",
              "      <td>0.078000</td>\n",
              "      <td>21.000000</td>\n",
              "    </tr>\n",
              "    <tr>\n",
              "      <th>25%</th>\n",
              "      <td>1.000000</td>\n",
              "      <td>99.000000</td>\n",
              "      <td>62.000000</td>\n",
              "      <td>0.000000</td>\n",
              "      <td>0.000000</td>\n",
              "      <td>27.300000</td>\n",
              "      <td>0.243750</td>\n",
              "      <td>24.000000</td>\n",
              "    </tr>\n",
              "    <tr>\n",
              "      <th>50%</th>\n",
              "      <td>3.000000</td>\n",
              "      <td>117.000000</td>\n",
              "      <td>72.000000</td>\n",
              "      <td>23.000000</td>\n",
              "      <td>30.500000</td>\n",
              "      <td>32.000000</td>\n",
              "      <td>0.372500</td>\n",
              "      <td>29.000000</td>\n",
              "    </tr>\n",
              "    <tr>\n",
              "      <th>75%</th>\n",
              "      <td>6.000000</td>\n",
              "      <td>140.250000</td>\n",
              "      <td>80.000000</td>\n",
              "      <td>32.000000</td>\n",
              "      <td>127.250000</td>\n",
              "      <td>36.600000</td>\n",
              "      <td>0.626250</td>\n",
              "      <td>41.000000</td>\n",
              "    </tr>\n",
              "    <tr>\n",
              "      <th>max</th>\n",
              "      <td>17.000000</td>\n",
              "      <td>199.000000</td>\n",
              "      <td>122.000000</td>\n",
              "      <td>99.000000</td>\n",
              "      <td>846.000000</td>\n",
              "      <td>67.100000</td>\n",
              "      <td>2.420000</td>\n",
              "      <td>81.000000</td>\n",
              "    </tr>\n",
              "  </tbody>\n",
              "</table>\n",
              "</div>\n",
              "    <div class=\"colab-df-buttons\">\n",
              "\n",
              "  <div class=\"colab-df-container\">\n",
              "    <button class=\"colab-df-convert\" onclick=\"convertToInteractive('df-5f799a29-b9e6-4ccf-bd80-38ecf5cdbbfb')\"\n",
              "            title=\"Convert this dataframe to an interactive table.\"\n",
              "            style=\"display:none;\">\n",
              "\n",
              "  <svg xmlns=\"http://www.w3.org/2000/svg\" height=\"24px\" viewBox=\"0 -960 960 960\">\n",
              "    <path d=\"M120-120v-720h720v720H120Zm60-500h600v-160H180v160Zm220 220h160v-160H400v160Zm0 220h160v-160H400v160ZM180-400h160v-160H180v160Zm440 0h160v-160H620v160ZM180-180h160v-160H180v160Zm440 0h160v-160H620v160Z\"/>\n",
              "  </svg>\n",
              "    </button>\n",
              "\n",
              "  <style>\n",
              "    .colab-df-container {\n",
              "      display:flex;\n",
              "      gap: 12px;\n",
              "    }\n",
              "\n",
              "    .colab-df-convert {\n",
              "      background-color: #E8F0FE;\n",
              "      border: none;\n",
              "      border-radius: 50%;\n",
              "      cursor: pointer;\n",
              "      display: none;\n",
              "      fill: #1967D2;\n",
              "      height: 32px;\n",
              "      padding: 0 0 0 0;\n",
              "      width: 32px;\n",
              "    }\n",
              "\n",
              "    .colab-df-convert:hover {\n",
              "      background-color: #E2EBFA;\n",
              "      box-shadow: 0px 1px 2px rgba(60, 64, 67, 0.3), 0px 1px 3px 1px rgba(60, 64, 67, 0.15);\n",
              "      fill: #174EA6;\n",
              "    }\n",
              "\n",
              "    .colab-df-buttons div {\n",
              "      margin-bottom: 4px;\n",
              "    }\n",
              "\n",
              "    [theme=dark] .colab-df-convert {\n",
              "      background-color: #3B4455;\n",
              "      fill: #D2E3FC;\n",
              "    }\n",
              "\n",
              "    [theme=dark] .colab-df-convert:hover {\n",
              "      background-color: #434B5C;\n",
              "      box-shadow: 0px 1px 3px 1px rgba(0, 0, 0, 0.15);\n",
              "      filter: drop-shadow(0px 1px 2px rgba(0, 0, 0, 0.3));\n",
              "      fill: #FFFFFF;\n",
              "    }\n",
              "  </style>\n",
              "\n",
              "    <script>\n",
              "      const buttonEl =\n",
              "        document.querySelector('#df-5f799a29-b9e6-4ccf-bd80-38ecf5cdbbfb button.colab-df-convert');\n",
              "      buttonEl.style.display =\n",
              "        google.colab.kernel.accessAllowed ? 'block' : 'none';\n",
              "\n",
              "      async function convertToInteractive(key) {\n",
              "        const element = document.querySelector('#df-5f799a29-b9e6-4ccf-bd80-38ecf5cdbbfb');\n",
              "        const dataTable =\n",
              "          await google.colab.kernel.invokeFunction('convertToInteractive',\n",
              "                                                    [key], {});\n",
              "        if (!dataTable) return;\n",
              "\n",
              "        const docLinkHtml = 'Like what you see? Visit the ' +\n",
              "          '<a target=\"_blank\" href=https://colab.research.google.com/notebooks/data_table.ipynb>data table notebook</a>'\n",
              "          + ' to learn more about interactive tables.';\n",
              "        element.innerHTML = '';\n",
              "        dataTable['output_type'] = 'display_data';\n",
              "        await google.colab.output.renderOutput(dataTable, element);\n",
              "        const docLink = document.createElement('div');\n",
              "        docLink.innerHTML = docLinkHtml;\n",
              "        element.appendChild(docLink);\n",
              "      }\n",
              "    </script>\n",
              "  </div>\n",
              "\n",
              "\n",
              "<div id=\"df-2a8f6939-b5d0-4ec8-8d13-f6455bbdab20\">\n",
              "  <button class=\"colab-df-quickchart\" onclick=\"quickchart('df-2a8f6939-b5d0-4ec8-8d13-f6455bbdab20')\"\n",
              "            title=\"Suggest charts\"\n",
              "            style=\"display:none;\">\n",
              "\n",
              "<svg xmlns=\"http://www.w3.org/2000/svg\" height=\"24px\"viewBox=\"0 0 24 24\"\n",
              "     width=\"24px\">\n",
              "    <g>\n",
              "        <path d=\"M19 3H5c-1.1 0-2 .9-2 2v14c0 1.1.9 2 2 2h14c1.1 0 2-.9 2-2V5c0-1.1-.9-2-2-2zM9 17H7v-7h2v7zm4 0h-2V7h2v10zm4 0h-2v-4h2v4z\"/>\n",
              "    </g>\n",
              "</svg>\n",
              "  </button>\n",
              "\n",
              "<style>\n",
              "  .colab-df-quickchart {\n",
              "      --bg-color: #E8F0FE;\n",
              "      --fill-color: #1967D2;\n",
              "      --hover-bg-color: #E2EBFA;\n",
              "      --hover-fill-color: #174EA6;\n",
              "      --disabled-fill-color: #AAA;\n",
              "      --disabled-bg-color: #DDD;\n",
              "  }\n",
              "\n",
              "  [theme=dark] .colab-df-quickchart {\n",
              "      --bg-color: #3B4455;\n",
              "      --fill-color: #D2E3FC;\n",
              "      --hover-bg-color: #434B5C;\n",
              "      --hover-fill-color: #FFFFFF;\n",
              "      --disabled-bg-color: #3B4455;\n",
              "      --disabled-fill-color: #666;\n",
              "  }\n",
              "\n",
              "  .colab-df-quickchart {\n",
              "    background-color: var(--bg-color);\n",
              "    border: none;\n",
              "    border-radius: 50%;\n",
              "    cursor: pointer;\n",
              "    display: none;\n",
              "    fill: var(--fill-color);\n",
              "    height: 32px;\n",
              "    padding: 0;\n",
              "    width: 32px;\n",
              "  }\n",
              "\n",
              "  .colab-df-quickchart:hover {\n",
              "    background-color: var(--hover-bg-color);\n",
              "    box-shadow: 0 1px 2px rgba(60, 64, 67, 0.3), 0 1px 3px 1px rgba(60, 64, 67, 0.15);\n",
              "    fill: var(--button-hover-fill-color);\n",
              "  }\n",
              "\n",
              "  .colab-df-quickchart-complete:disabled,\n",
              "  .colab-df-quickchart-complete:disabled:hover {\n",
              "    background-color: var(--disabled-bg-color);\n",
              "    fill: var(--disabled-fill-color);\n",
              "    box-shadow: none;\n",
              "  }\n",
              "\n",
              "  .colab-df-spinner {\n",
              "    border: 2px solid var(--fill-color);\n",
              "    border-color: transparent;\n",
              "    border-bottom-color: var(--fill-color);\n",
              "    animation:\n",
              "      spin 1s steps(1) infinite;\n",
              "  }\n",
              "\n",
              "  @keyframes spin {\n",
              "    0% {\n",
              "      border-color: transparent;\n",
              "      border-bottom-color: var(--fill-color);\n",
              "      border-left-color: var(--fill-color);\n",
              "    }\n",
              "    20% {\n",
              "      border-color: transparent;\n",
              "      border-left-color: var(--fill-color);\n",
              "      border-top-color: var(--fill-color);\n",
              "    }\n",
              "    30% {\n",
              "      border-color: transparent;\n",
              "      border-left-color: var(--fill-color);\n",
              "      border-top-color: var(--fill-color);\n",
              "      border-right-color: var(--fill-color);\n",
              "    }\n",
              "    40% {\n",
              "      border-color: transparent;\n",
              "      border-right-color: var(--fill-color);\n",
              "      border-top-color: var(--fill-color);\n",
              "    }\n",
              "    60% {\n",
              "      border-color: transparent;\n",
              "      border-right-color: var(--fill-color);\n",
              "    }\n",
              "    80% {\n",
              "      border-color: transparent;\n",
              "      border-right-color: var(--fill-color);\n",
              "      border-bottom-color: var(--fill-color);\n",
              "    }\n",
              "    90% {\n",
              "      border-color: transparent;\n",
              "      border-bottom-color: var(--fill-color);\n",
              "    }\n",
              "  }\n",
              "</style>\n",
              "\n",
              "  <script>\n",
              "    async function quickchart(key) {\n",
              "      const quickchartButtonEl =\n",
              "        document.querySelector('#' + key + ' button');\n",
              "      quickchartButtonEl.disabled = true;  // To prevent multiple clicks.\n",
              "      quickchartButtonEl.classList.add('colab-df-spinner');\n",
              "      try {\n",
              "        const charts = await google.colab.kernel.invokeFunction(\n",
              "            'suggestCharts', [key], {});\n",
              "      } catch (error) {\n",
              "        console.error('Error during call to suggestCharts:', error);\n",
              "      }\n",
              "      quickchartButtonEl.classList.remove('colab-df-spinner');\n",
              "      quickchartButtonEl.classList.add('colab-df-quickchart-complete');\n",
              "    }\n",
              "    (() => {\n",
              "      let quickchartButtonEl =\n",
              "        document.querySelector('#df-2a8f6939-b5d0-4ec8-8d13-f6455bbdab20 button');\n",
              "      quickchartButtonEl.style.display =\n",
              "        google.colab.kernel.accessAllowed ? 'block' : 'none';\n",
              "    })();\n",
              "  </script>\n",
              "</div>\n",
              "    </div>\n",
              "  </div>\n"
            ]
          },
          "metadata": {},
          "execution_count": 48
        }
      ],
      "source": [
        "# perform summary statistics\n",
        "df.describe()\n"
      ]
    },
    {
      "cell_type": "markdown",
      "id": "ad900272",
      "metadata": {
        "id": "ad900272"
      },
      "source": [
        "7. Looking at the summary statistics, do you notice anything odd about the following columns?\n",
        "\n",
        "   - `Glucose`\n",
        "   - `BloodPressure`\n",
        "   - `SkinThickness`\n",
        "   - `Insulin`\n",
        "   - `BMI`"
      ]
    },
    {
      "cell_type": "markdown",
      "id": "7131eacb",
      "metadata": {
        "id": "7131eacb"
      },
      "source": [
        "**Your response to question 7**:"
      ]
    },
    {
      "cell_type": "markdown",
      "id": "3ed15b79",
      "metadata": {
        "id": "3ed15b79"
      },
      "source": [
        "8. Do you spot any other outliers in the data?"
      ]
    },
    {
      "cell_type": "markdown",
      "id": "8a708e88",
      "metadata": {
        "id": "8a708e88"
      },
      "source": [
        "**Your response to question 8**:"
      ]
    },
    {
      "cell_type": "markdown",
      "source": [
        "Lots of 0 values in the Glucose, BloodPress, SkinThickness, Insulin and BMI columns. Also the 50% standard deviation for Insult is much lower then the mean meaning the max of 846 could be an inflated top range. Also comparing it to the 75% quartile, it would also suggest this. Same could be said for Pregnancies, max is much higher then the 75% upper quartile."
      ],
      "metadata": {
        "id": "UQGCr_8uAuUV"
      },
      "id": "UQGCr_8uAuUV"
    },
    {
      "cell_type": "markdown",
      "id": "4b5bcf47",
      "metadata": {
        "id": "4b5bcf47"
      },
      "source": [
        "9. Let's see if we can get a more accurate view of the missing values in the data.\n",
        "\n",
        "   Use the following code to replace the instances of `0` with `NaN` in the five columns mentioned:\n",
        "   \n",
        "   ```py\n",
        "   diabetes_data[['Glucose', 'BloodPressure', 'SkinThickness', 'Insulin', 'BMI']] = diabetes_data[['Glucose', 'BloodPressure', 'SkinThickness', 'Insulin', 'BMI']].replace(0, np.NaN)\n",
        "   ```"
      ]
    },
    {
      "cell_type": "code",
      "execution_count": null,
      "id": "623def40",
      "metadata": {
        "id": "623def40"
      },
      "outputs": [],
      "source": [
        "# replace instances of 0 with NaN\n",
        "df[['Glucose', 'BloodPressure', 'SkinThickness', 'Insulin', 'BMI']] = df[['Glucose', 'BloodPressure', 'SkinThickness', 'Insulin', 'BMI']].replace(0, np.NaN)\n"
      ]
    },
    {
      "cell_type": "markdown",
      "id": "ad9fc71d",
      "metadata": {
        "id": "ad9fc71d"
      },
      "source": [
        "10. Next, check for missing (null) values in all of the columns just like you did in Step 5.\n",
        "\n",
        "    Now how many missing values are there?"
      ]
    },
    {
      "cell_type": "code",
      "execution_count": null,
      "id": "1e4d2845",
      "metadata": {
        "colab": {
          "base_uri": "https://localhost:8080/"
        },
        "id": "1e4d2845",
        "outputId": "f6094980-a005-4e39-8269-137daa0bbb2a"
      },
      "outputs": [
        {
          "output_type": "execute_result",
          "data": {
            "text/plain": [
              "Pregnancies                   0\n",
              "Glucose                       5\n",
              "BloodPressure                35\n",
              "SkinThickness               227\n",
              "Insulin                     374\n",
              "BMI                          11\n",
              "DiabetesPedigreeFunction      0\n",
              "Age                           0\n",
              "Outcome                       0\n",
              "dtype: int64"
            ]
          },
          "metadata": {},
          "execution_count": 50
        }
      ],
      "source": [
        "# find whether columns contain null values after replacements are made\n",
        "df.isnull().sum()"
      ]
    },
    {
      "cell_type": "markdown",
      "id": "4265329e",
      "metadata": {
        "id": "4265329e"
      },
      "source": [
        "11. Let's take a closer look at these rows to get a better idea of _why_ some data might be missing.\n",
        "\n",
        "    Print out all the rows that contain missing (null) values."
      ]
    },
    {
      "cell_type": "code",
      "execution_count": null,
      "id": "91f5b1fe",
      "metadata": {
        "colab": {
          "base_uri": "https://localhost:8080/"
        },
        "id": "91f5b1fe",
        "outputId": "73454e5e-641b-4609-ff73-d18305eab425"
      },
      "outputs": [
        {
          "output_type": "stream",
          "name": "stdout",
          "text": [
            "     Pregnancies  Glucose  BloodPressure  SkinThickness  Insulin   BMI  \\\n",
            "0              6    148.0           72.0           35.0      NaN  33.6   \n",
            "1              1     85.0           66.0           29.0      NaN  26.6   \n",
            "2              8    183.0           64.0            NaN      NaN  23.3   \n",
            "5              5    116.0           74.0            NaN      NaN  25.6   \n",
            "7             10    115.0            NaN            NaN      NaN  35.3   \n",
            "..           ...      ...            ...            ...      ...   ...   \n",
            "761            9    170.0           74.0           31.0      NaN  44.0   \n",
            "762            9     89.0           62.0            NaN      NaN  22.5   \n",
            "764            2    122.0           70.0           27.0      NaN  36.8   \n",
            "766            1    126.0           60.0            NaN      NaN  30.1   \n",
            "767            1     93.0           70.0           31.0      NaN  30.4   \n",
            "\n",
            "     DiabetesPedigreeFunction  Age Outcome  \n",
            "0                       0.627   50       1  \n",
            "1                       0.351   31       0  \n",
            "2                       0.672   32       1  \n",
            "5                       0.201   30       0  \n",
            "7                       0.134   29       0  \n",
            "..                        ...  ...     ...  \n",
            "761                     0.403   43       1  \n",
            "762                     0.142   33       0  \n",
            "764                     0.340   27       0  \n",
            "766                     0.349   47       1  \n",
            "767                     0.315   23       0  \n",
            "\n",
            "[376 rows x 9 columns]\n"
          ]
        }
      ],
      "source": [
        "# print rows with missing values\n",
        "print(df[df.isnull().any(axis=1)])"
      ]
    },
    {
      "cell_type": "markdown",
      "id": "e3f06a2e",
      "metadata": {
        "id": "e3f06a2e"
      },
      "source": [
        "12. Go through the rows with missing data. Do you notice any patterns or overlaps between the missing data?"
      ]
    },
    {
      "cell_type": "markdown",
      "id": "cb42cfe6",
      "metadata": {
        "id": "cb42cfe6"
      },
      "source": [
        "**Your response to question 12**:"
      ]
    },
    {
      "cell_type": "markdown",
      "source": [
        "There are a lot of missing lines with data absent. Most frequently from the Insulin line. This may be due to certain tests not being done with certain patients - it does seem, from the brief view, the lower the BMI the higher chance there is a np.nan value in the box."
      ],
      "metadata": {
        "id": "-gcUqdQ-Bm1V"
      },
      "id": "-gcUqdQ-Bm1V"
    },
    {
      "cell_type": "markdown",
      "id": "5b597d09",
      "metadata": {
        "id": "5b597d09"
      },
      "source": [
        "13. Next, take a closer look at the data types of each column in `diabetes_data`.\n",
        "\n",
        "    Does the result match what you would expect?"
      ]
    },
    {
      "cell_type": "code",
      "execution_count": null,
      "id": "5855aa09",
      "metadata": {
        "colab": {
          "base_uri": "https://localhost:8080/"
        },
        "id": "5855aa09",
        "outputId": "416949ad-d2d8-44d7-ff2f-75fce0202ef4"
      },
      "outputs": [
        {
          "output_type": "stream",
          "name": "stdout",
          "text": [
            "<class 'pandas.core.frame.DataFrame'>\n",
            "RangeIndex: 768 entries, 0 to 767\n",
            "Data columns (total 9 columns):\n",
            " #   Column                    Non-Null Count  Dtype  \n",
            "---  ------                    --------------  -----  \n",
            " 0   Pregnancies               768 non-null    int64  \n",
            " 1   Glucose                   763 non-null    float64\n",
            " 2   BloodPressure             733 non-null    float64\n",
            " 3   SkinThickness             541 non-null    float64\n",
            " 4   Insulin                   394 non-null    float64\n",
            " 5   BMI                       757 non-null    float64\n",
            " 6   DiabetesPedigreeFunction  768 non-null    float64\n",
            " 7   Age                       768 non-null    int64  \n",
            " 8   Outcome                   768 non-null    object \n",
            "dtypes: float64(6), int64(2), object(1)\n",
            "memory usage: 54.1+ KB\n"
          ]
        }
      ],
      "source": [
        "# print data types using .info() method\n",
        "df.info()"
      ]
    },
    {
      "cell_type": "markdown",
      "id": "c61b8b02",
      "metadata": {
        "id": "c61b8b02"
      },
      "source": [
        "14. To figure out why the `Outcome` column is of type `object` (string) instead of type `int64`, print out the unique values in the `Outcome` column."
      ]
    },
    {
      "cell_type": "code",
      "execution_count": null,
      "id": "ffedd117",
      "metadata": {
        "colab": {
          "base_uri": "https://localhost:8080/"
        },
        "id": "ffedd117",
        "outputId": "65b03185-8fb1-4c51-d921-ec23c1bb5721"
      },
      "outputs": [
        {
          "output_type": "stream",
          "name": "stdout",
          "text": [
            "<class 'pandas.core.frame.DataFrame'>\n",
            "RangeIndex: 768 entries, 0 to 767\n",
            "Data columns (total 9 columns):\n",
            " #   Column                    Non-Null Count  Dtype  \n",
            "---  ------                    --------------  -----  \n",
            " 0   Pregnancies               768 non-null    int64  \n",
            " 1   Glucose                   763 non-null    float64\n",
            " 2   BloodPressure             733 non-null    float64\n",
            " 3   SkinThickness             541 non-null    float64\n",
            " 4   Insulin                   394 non-null    float64\n",
            " 5   BMI                       757 non-null    float64\n",
            " 6   DiabetesPedigreeFunction  768 non-null    float64\n",
            " 7   Age                       768 non-null    int64  \n",
            " 8   Outcome                   768 non-null    int64  \n",
            "dtypes: float64(6), int64(3)\n",
            "memory usage: 54.1 KB\n"
          ]
        }
      ],
      "source": [
        "# print unique values of Outcome column\n",
        "\n",
        "df.Outcome = df.Outcome.replace(\"O\", \"0\")\n",
        "df.Outcome = df.Outcome.astype('int64')\n",
        "df.Outcome.unique()\n",
        "\n",
        "df.info()"
      ]
    },
    {
      "cell_type": "markdown",
      "id": "42b3bcbe",
      "metadata": {
        "id": "42b3bcbe"
      },
      "source": [
        "15. How might you resolve this issue?"
      ]
    },
    {
      "cell_type": "markdown",
      "id": "7495f5b6",
      "metadata": {
        "id": "7495f5b6"
      },
      "source": [
        "**Your response to question 15**:"
      ]
    },
    {
      "cell_type": "markdown",
      "source": [
        "Substitue the \"O\" with a \"0\" as it seems there was an inputting error here. After that, change the type to \"int64\" with the .astype() function. See above code to correct."
      ],
      "metadata": {
        "id": "P7I_yMgECP4H"
      },
      "id": "P7I_yMgECP4H"
    },
    {
      "cell_type": "markdown",
      "id": "9c5fbcbe",
      "metadata": {
        "id": "9c5fbcbe"
      },
      "source": [
        "## Next Steps:"
      ]
    },
    {
      "cell_type": "markdown",
      "id": "22a324d0",
      "metadata": {
        "id": "22a324d0"
      },
      "source": [
        "16. Congratulations! In this project, you saw how EDA can help with the initial data inspection and cleaning process. This is an important step as it helps to keep your datasets clean and reliable.\n",
        "\n",
        "    Here are some ways you might extend this project if you'd like:\n",
        "    - Use `.value_counts()` to more fully explore the values in each column.\n",
        "    - Investigate other outliers in the data that may be easily overlooked.\n",
        "    - Instead of changing the `0` values in the five columns to `NaN`, try replacing the values with the median or mean of each column."
      ]
    },
    {
      "cell_type": "code",
      "execution_count": null,
      "id": "b7f440b6",
      "metadata": {
        "colab": {
          "base_uri": "https://localhost:8080/"
        },
        "id": "b7f440b6",
        "outputId": "8bbf8539-e5d5-41ec-d8d2-5145019843e7"
      },
      "outputs": [
        {
          "output_type": "execute_result",
          "data": {
            "text/plain": [
              "Pregnancies  Glucose  BloodPressure  SkinThickness  Insulin  BMI   DiabetesPedigreeFunction  Age  Outcome\n",
              "0            74.0     52.0           10.0           36.0     27.8  0.269                     22   0          1\n",
              "4            117.0    64.0           27.0           120.0    33.2  0.230                     24   0          1\n",
              "             111.0    72.0           47.0           207.0    37.1  1.390                     56   1          1\n",
              "             110.0    76.0           20.0           100.0    28.4  0.118                     27   0          1\n",
              "             109.0    64.0           44.0           99.0     34.8  0.905                     26   1          1\n",
              "                                                                                                            ..\n",
              "1            131.0    64.0           14.0           415.0    23.7  0.389                     21   0          1\n",
              "             130.0    70.0           13.0           105.0    25.9  0.472                     22   0          1\n",
              "                      60.0           23.0           170.0    28.6  0.692                     21   0          1\n",
              "             128.0    98.0           41.0           58.0     32.0  1.321                     33   1          1\n",
              "17           163.0    72.0           41.0           114.0    40.9  0.817                     47   1          1\n",
              "Length: 392, dtype: int64"
            ]
          },
          "metadata": {},
          "execution_count": 54
        }
      ],
      "source": [
        "df.value_counts()"
      ]
    }
  ],
  "metadata": {
    "kernelspec": {
      "display_name": "Python 3 (ipykernel)",
      "language": "python",
      "name": "python3"
    },
    "language_info": {
      "codemirror_mode": {
        "name": "ipython",
        "version": 3
      },
      "file_extension": ".py",
      "mimetype": "text/x-python",
      "name": "python",
      "nbconvert_exporter": "python",
      "pygments_lexer": "ipython3",
      "version": "3.7.11"
    },
    "colab": {
      "provenance": [],
      "include_colab_link": true
    }
  },
  "nbformat": 4,
  "nbformat_minor": 5
}
